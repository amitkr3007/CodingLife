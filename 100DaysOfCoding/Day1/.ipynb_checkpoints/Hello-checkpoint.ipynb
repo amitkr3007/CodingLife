{
 "cells": [
  {
   "cell_type": "code",
   "execution_count": null,
   "id": "7afd51e1-1aae-45ef-a6eb-2b6fd658a50f",
   "metadata": {},
   "outputs": [],
   "source": [
    "print ('Hello World')"
   ]
  }
 ],
 "metadata": {
  "kernelspec": {
   "display_name": "Python 3 (ipykernel)",
   "language": "python",
   "name": "python3"
  },
  "language_info": {
   "codemirror_mode": {
    "name": "ipython",
    "version": 3
   },
   "file_extension": ".py",
   "mimetype": "text/x-python",
   "name": "python",
   "nbconvert_exporter": "python",
   "pygments_lexer": "ipython3",
   "version": "3.11.7"
  }
 },
 "nbformat": 4,
 "nbformat_minor": 5
}
